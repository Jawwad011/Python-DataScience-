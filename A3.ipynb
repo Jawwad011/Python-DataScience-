{
  "nbformat": 4,
  "nbformat_minor": 0,
  "metadata": {
    "colab": {
      "name": "A3.ipynb",
      "provenance": [],
      "collapsed_sections": []
    },
    "kernelspec": {
      "name": "python3",
      "display_name": "Python 3"
    },
    "language_info": {
      "name": "python"
    }
  },
  "cells": [
    {
      "cell_type": "markdown",
      "metadata": {
        "id": "-3d8S8L4Z1S4"
      },
      "source": [
        "1.\tWrite a Python program to print the following string in a specific format (see the output).\n",
        "Twinkle, twinkle, little star,\n",
        "How I wonder what you are!\n",
        "Up above the world so high, Like a diamond in the sky.\n",
        "Twinkle, twinkle, little star,\n",
        "How I wonder what you are\n",
        "\n",
        "2.\tWrite a Python program to get the Python version you are using\n",
        "3.\tWrite a Python program to display the current date and time.\n",
        "4.\tWrite a Python program which accepts the radius of a circle from the user and compute the area.\n",
        "5.\tWrite a Python program which accepts the user's first and last name and print them in reverse order with a space between them.\n",
        "6.\tWrite a python program which takes two inputs from user and print them addition\n",
        "\n",
        "7.\tWrite a program which takes 5 inputs from user for different subject’s marks, total it and generate mark sheet using grades ?\n",
        "\n",
        "8.\tWrite a program which take input from user and identify that the given number is even or odd?\n",
        "\n",
        "9.\tWrite a program which print the length of the list?\n",
        "\n",
        "10.\tWrite a Python program to sum all the numeric items in a list?\n",
        "\n",
        "11.\tWrite a Python program to get the largest number from a numeric list.\n",
        "\n",
        "12.\tTake a list, say for example this one:\n",
        "a = [1, 1, 2, 3, 5, 8, 13, 21, 34, 55, 89]\n",
        "Write a program that prints out all the elements of the list that are less than 5.\n"
      ]
    },
    {
      "cell_type": "code",
      "metadata": {
        "colab": {
          "base_uri": "https://localhost:8080/"
        },
        "id": "aYJTXtqY-5yM",
        "outputId": "e4c2959c-905f-4534-d981-cf919aa02403"
      },
      "source": [
        "#1\n",
        "print(\"Twinkle, twinkle, little star, \\n\\t How I wonder what you are! \\n\\t\\tUp above the world so high, \\n\\t\\tLike a diamond in the sky. \\nTwinkle, twinkle, little star, \\n\\tHow I wonder what you are!\")\n"
      ],
      "execution_count": 23,
      "outputs": [
        {
          "output_type": "stream",
          "name": "stdout",
          "text": [
            "Twinkle, twinkle, little star, \n",
            "\t How I wonder what you are! \n",
            "\t\tUp above the world so high, \n",
            "\t\tLike a diamond in the sky. \n",
            "Twinkle, twinkle, little star, \n",
            "\tHow I wonder what you are!\n"
          ]
        }
      ]
    },
    {
      "cell_type": "code",
      "metadata": {
        "colab": {
          "base_uri": "https://localhost:8080/"
        },
        "id": "GBDPLkYDaIK5",
        "outputId": "42ba45fd-fc62-4c4f-e782-28295c223ac4"
      },
      "source": [
        "#2\n",
        "import platform\n",
        "print(platform.python_version())"
      ],
      "execution_count": null,
      "outputs": [
        {
          "output_type": "stream",
          "name": "stdout",
          "text": [
            "3.7.12\n"
          ]
        }
      ]
    },
    {
      "cell_type": "code",
      "metadata": {
        "colab": {
          "base_uri": "https://localhost:8080/"
        },
        "id": "N9SCPnJ0a3wO",
        "outputId": "4aceecfa-914c-4cb8-bc8f-b0cbb2be4de4"
      },
      "source": [
        "#3\n",
        "from datetime import datetime\n",
        "time=datetime.now()\n",
        "\n",
        "print(f\"I have started assignment 3 at {time } \")"
      ],
      "execution_count": null,
      "outputs": [
        {
          "output_type": "stream",
          "name": "stdout",
          "text": [
            "I have started assignment 3 at 2021-10-21 20:11:32.317582 \n"
          ]
        }
      ]
    },
    {
      "cell_type": "code",
      "metadata": {
        "colab": {
          "base_uri": "https://localhost:8080/"
        },
        "id": "al3MsIb9CLf0",
        "outputId": "c227d962-cc33-4b01-e93d-c413c0aa71a4"
      },
      "source": [
        "#4\n",
        "import math\n",
        "r=float(input(\"Enter the raidus of the circle :  \"))\n",
        "a=math.pi*r**2\n",
        "print(f\"The area of cirlce is {a} with a raidus of {r}\")\n"
      ],
      "execution_count": 26,
      "outputs": [
        {
          "output_type": "stream",
          "name": "stdout",
          "text": [
            "Enter the raidus of the circle :  4.5\n",
            "The area of cirlce is 63.61725123519331 with a raidus of 4.5\n"
          ]
        }
      ]
    },
    {
      "cell_type": "code",
      "metadata": {
        "colab": {
          "base_uri": "https://localhost:8080/"
        },
        "id": "v9BJQAjjCZjU",
        "outputId": "d4646ea8-49d8-49d4-a867-3b529af7ea02"
      },
      "source": [
        "#5\n",
        "fn=str(input(\"Enter the first name : \"))\n",
        "ln=str(input(\"Enter the last name : \"))\n",
        "username=(fn+' '+ln)\n",
        "R=username[::-1]\n",
        "print(R)"
      ],
      "execution_count": 27,
      "outputs": [
        {
          "output_type": "stream",
          "name": "stdout",
          "text": [
            "Enter the first name : Jawwad\n",
            "Enter the last name : Shah\n",
            "hahS dawwaJ\n"
          ]
        }
      ]
    },
    {
      "cell_type": "code",
      "metadata": {
        "colab": {
          "base_uri": "https://localhost:8080/"
        },
        "id": "pBm-oPioe565",
        "outputId": "70a8383c-2c69-40c4-e2d4-c082b5c4445d"
      },
      "source": [
        "#6\n",
        "num1=int(input(\"Enter Number 1 : \"))\n",
        "num2=int(input(\"Enter number 2 : \"))\n",
        "Result=num1+num2\n",
        "print(f\"The addition of {num1} and {num2} are {Result}\")"
      ],
      "execution_count": null,
      "outputs": [
        {
          "output_type": "stream",
          "name": "stdout",
          "text": [
            "Enter Number 1 : 50\n",
            "Enter number 2 : 70\n",
            "The addition of 50 and 70 are 120\n"
          ]
        }
      ]
    },
    {
      "cell_type": "code",
      "metadata": {
        "colab": {
          "base_uri": "https://localhost:8080/"
        },
        "id": "ErHUn5kSjp0F",
        "outputId": "7b0fef61-6607-422e-88c5-e93be243523f"
      },
      "source": [
        "#7\n",
        "mark = []\n",
        "tot = 0\n",
        "print(\"Enter Number of Subjects: \")\n",
        "subNo = int(input())\n",
        "print(\"Enter Marks Obtained in \" + str(subNo) + \" Subjects: \")\n",
        "for i in range(subNo):\n",
        "    mark.append(input())\n",
        "\n",
        "for i in range(subNo):\n",
        "    tot = tot + int(mark[i])\n",
        "avg = tot/subNo\n",
        "\n",
        "if avg>=91 and avg<=100:\n",
        "    print(\"Grade = A1\")\n",
        "elif avg>=81 and avg<91:\n",
        "    print(\"Grade = A2\")\n",
        "elif avg>=71 and avg<81:\n",
        "    print(\"Grade = B1\")\n",
        "elif avg>=61 and avg<71:\n",
        "    print(\"Grade = B2\")\n",
        "elif avg>=51 and avg<61:\n",
        "    print(\"Grade = C1\")\n",
        "elif avg>=41 and avg<51:\n",
        "    print(\"Grade = C2\")\n",
        "\n",
        "else:\n",
        "    print(\"Invalid Input!\")       \n",
        "    \n",
        "\n",
        "\n",
        "\n",
        "\n",
        "\n"
      ],
      "execution_count": 35,
      "outputs": [
        {
          "output_type": "stream",
          "name": "stdout",
          "text": [
            "Enter Number of Subjects: \n",
            "5\n",
            "Enter Marks Obtained in 5 Subjects: \n",
            "70\n",
            "80\n",
            "85\n",
            "97\n",
            "90\n",
            "Grade = A2\n"
          ]
        }
      ]
    },
    {
      "cell_type": "code",
      "metadata": {
        "colab": {
          "base_uri": "https://localhost:8080/"
        },
        "id": "1lkjTuM9mbbJ",
        "outputId": "ffd120ce-afc4-4f7d-ac39-8dcff9f40264"
      },
      "source": [
        "#8\n",
        "def evenodd():\n",
        "  num=int(input(\"Enter the number : \"))\n",
        "  if (num%2)==0:\n",
        "    print(f\"The number {num} is even \")\n",
        "  else:\n",
        "    print(f\"The number {num} is odd \" )  \n",
        "\n",
        "evenodd()"
      ],
      "execution_count": 1,
      "outputs": [
        {
          "output_type": "stream",
          "name": "stdout",
          "text": [
            "Enter the number : 29\n",
            "The number 29 is odd \n"
          ]
        }
      ]
    },
    {
      "cell_type": "code",
      "metadata": {
        "colab": {
          "base_uri": "https://localhost:8080/"
        },
        "id": "VKymSGNrFQrr",
        "outputId": "525a9b50-cefc-469a-9bd3-03335013b329"
      },
      "source": [
        "#9\n",
        "L=[\"Jawwad\",4.4,\"Hello\",29,4.00,\"a\"]\n",
        "print(len(L))"
      ],
      "execution_count": null,
      "outputs": [
        {
          "output_type": "stream",
          "name": "stdout",
          "text": [
            "6\n"
          ]
        }
      ]
    },
    {
      "cell_type": "code",
      "metadata": {
        "colab": {
          "base_uri": "https://localhost:8080/"
        },
        "id": "eVSAJSkuGEyZ",
        "outputId": "d25107bb-f18a-434e-96b2-9e7497d6d009"
      },
      "source": [
        "#10\n",
        "L=[2,3,4,5,6,7,8,9,10]\n",
        "sum=0\n",
        "\n",
        "for x in range(len(L)):\n",
        "  sum=sum +L[x]\n",
        "\n",
        "print(sum)"
      ],
      "execution_count": null,
      "outputs": [
        {
          "output_type": "stream",
          "name": "stdout",
          "text": [
            "54\n"
          ]
        }
      ]
    },
    {
      "cell_type": "code",
      "metadata": {
        "colab": {
          "base_uri": "https://localhost:8080/"
        },
        "id": "7P5FVLG2KFJv",
        "outputId": "12f0b4ba-bed0-4250-90a5-81d8ff70583f"
      },
      "source": [
        "#11\n",
        "N=[]\n",
        "for x in range(1,11):\n",
        "  Numbers=int(input(\"Enter the numbers : \"))\n",
        "  N.append(Numbers)\n",
        "\n",
        "print(\"maximum numbers of the list are : \",max(N))  "
      ],
      "execution_count": null,
      "outputs": [
        {
          "output_type": "stream",
          "name": "stdout",
          "text": [
            "Enter the numbers : 51\n",
            "Enter the numbers : 22\n",
            "Enter the numbers : 45\n",
            "Enter the numbers : 67\n",
            "Enter the numbers : 89\n",
            "Enter the numbers : 99\n",
            "Enter the numbers : 119\n",
            "Enter the numbers : 67\n",
            "Enter the numbers : 88\n",
            "Enter the numbers : 89\n",
            "maximum numbers of the list are :  119\n"
          ]
        }
      ]
    },
    {
      "cell_type": "code",
      "metadata": {
        "colab": {
          "base_uri": "https://localhost:8080/"
        },
        "id": "MPcvwiFOO40p",
        "outputId": "c60ee952-eb7f-4146-bf81-580890c86c8f"
      },
      "source": [
        "#12\n",
        "a = [1, 1, 2, 3, 5, 8, 13, 21, 34, 55, 89]\n",
        "b= [x for x in a if x<5]\n",
        "print(b)"
      ],
      "execution_count": null,
      "outputs": [
        {
          "output_type": "stream",
          "name": "stdout",
          "text": [
            "[1, 1, 2, 3]\n"
          ]
        }
      ]
    }
  ]
}